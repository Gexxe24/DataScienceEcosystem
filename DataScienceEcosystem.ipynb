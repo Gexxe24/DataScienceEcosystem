{
 "cells": [
  {
   "cell_type": "markdown",
   "id": "8e3c9c34",
   "metadata": {},
   "source": [
    "# In this notebook, Data Science Tools and Ecosystem are summarized."
   ]
  },
  {
   "cell_type": "markdown",
   "id": "a0765da7",
   "metadata": {},
   "source": [
    "## Author \n",
    "Guillermo Echenique"
   ]
  },
  {
   "cell_type": "markdown",
   "id": "814b8144",
   "metadata": {},
   "source": [
    "**Objectives:**\n",
    "\n",
    "- List popular languages for Data Science  \n",
    "- Identify commonly used libraries in Data Science  \n",
    "- Create and format Markdown cells in a Jupyter notebook  \n",
    "- Demonstrate basic arithmetic expressions in Python  \n",
    "- Understand the role of tools like Jupyter, RStudio, and VS Code"
   ]
  },
  {
   "cell_type": "markdown",
   "id": "d6333657",
   "metadata": {},
   "source": [
    "Some of the popular languages that Data Scientists use include:\n",
    "\n",
    "1. Python\n",
    "2. R\n",
    "3. Java\n",
    "4. C\n",
    "5. C++\n",
    "6. Scala\n",
    "7. And many more!"
   ]
  },
  {
   "cell_type": "markdown",
   "id": "27f62eae",
   "metadata": {},
   "source": [
    "Some of the commonly used libraries used by Data Scientists include:\n",
    "\n",
    "1. Pandas\n",
    "2. Matplotlib\n",
    "3. ggplot\n",
    "4. Scikit Learn\n",
    "5. Seaborn"
   ]
  },
  {
   "cell_type": "markdown",
   "id": "caaf3fc6",
   "metadata": {},
   "source": [
    "|Data Science Tools|\n",
    "|------------------|\n",
    "|Jupyter Notebook|\n",
    "|R Studio|\n",
    "|VS Code|"
   ]
  },
  {
   "cell_type": "markdown",
   "id": "b0ba9abb",
   "metadata": {},
   "source": [
    "### Below are a few examples of evaluating arithmetic expressions in Python:\n",
    "\n",
    "- 3 + 5 -->  Addition of two numbers  \n",
    "- 10 - 4 -->  Subtraction of two numbers  \n",
    "- 6 * 7 -->  Multiplication  \n",
    "- 16 / 2 --> Division  \n",
    "- 2 ** 3 --> Exponentiation (2 raised to the power of 3)  \n",
    "- 10 % 3 --> Modulus (remainder of the division)"
   ]
  },
  {
   "cell_type": "code",
   "execution_count": 5,
   "id": "c107b88d",
   "metadata": {},
   "outputs": [
    {
     "data": {
      "text/plain": [
       "17"
      ]
     },
     "execution_count": 5,
     "metadata": {},
     "output_type": "execute_result"
    }
   ],
   "source": [
    "#This a simple arithmetic expression to mutiply then add integers\n",
    "\n",
    "(3*4)+5"
   ]
  },
  {
   "cell_type": "code",
   "execution_count": 6,
   "id": "a47bea09",
   "metadata": {},
   "outputs": [
    {
     "data": {
      "text/plain": [
       "3.3333333333333335"
      ]
     },
     "execution_count": 6,
     "metadata": {},
     "output_type": "execute_result"
    }
   ],
   "source": [
    "#This will convert 200 minutes to hours by diving by 60\n",
    "\n",
    "min_in_hours = 200/60\n",
    "min_in_hours"
   ]
  }
 ],
 "metadata": {
  "kernelspec": {
   "display_name": "Python 3 (ipykernel)",
   "language": "python",
   "name": "python3"
  },
  "language_info": {
   "codemirror_mode": {
    "name": "ipython",
    "version": 3
   },
   "file_extension": ".py",
   "mimetype": "text/x-python",
   "name": "python",
   "nbconvert_exporter": "python",
   "pygments_lexer": "ipython3",
   "version": "3.9.12"
  }
 },
 "nbformat": 4,
 "nbformat_minor": 5
}
